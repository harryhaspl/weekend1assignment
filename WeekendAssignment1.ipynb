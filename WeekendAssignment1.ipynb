{
 "cells": [
  {
   "cell_type": "code",
   "execution_count": 1,
   "metadata": {},
   "outputs": [],
   "source": [
    "# think of 5 places in the world that you would like to visit:\n",
    "places_to_see = [ \"Machu Picchu\", \"Yellowstone National Park\", \"The Grand Canyon\", \"Japan\", \"Australia\" ]\n"
   ]
  },
  {
   "cell_type": "code",
   "execution_count": 2,
   "metadata": {},
   "outputs": [
    {
     "name": "stdout",
     "output_type": "stream",
     "text": [
      "['Machu Picchu', 'Yellowstone National Park', 'The Grand Canyon', 'Japan', 'Australia']\n"
     ]
    }
   ],
   "source": [
    "# print the list in its original order\n",
    "print(places_to_see)"
   ]
  },
  {
   "cell_type": "code",
   "execution_count": 3,
   "metadata": {},
   "outputs": [
    {
     "name": "stdout",
     "output_type": "stream",
     "text": [
      "['Australia', 'Japan', 'Machu Picchu', 'The Grand Canyon', 'Yellowstone National Park']\n"
     ]
    }
   ],
   "source": [
    "# print the list in alphabetical order\n",
    "print(sorted(places_to_see))"
   ]
  },
  {
   "cell_type": "code",
   "execution_count": 4,
   "metadata": {},
   "outputs": [
    {
     "name": "stdout",
     "output_type": "stream",
     "text": [
      "['Machu Picchu', 'Yellowstone National Park', 'The Grand Canyon', 'Japan', 'Australia']\n"
     ]
    }
   ],
   "source": [
    "print(places_to_see)"
   ]
  },
  {
   "cell_type": "code",
   "execution_count": 5,
   "metadata": {},
   "outputs": [
    {
     "name": "stdout",
     "output_type": "stream",
     "text": [
      "['Yellowstone National Park', 'The Grand Canyon', 'Machu Picchu', 'Japan', 'Australia']\n"
     ]
    }
   ],
   "source": [
    "# print the list in reverse alphabetical order\n",
    "print(sorted(places_to_see, reverse = True))"
   ]
  },
  {
   "cell_type": "code",
   "execution_count": 6,
   "metadata": {},
   "outputs": [
    {
     "name": "stdout",
     "output_type": "stream",
     "text": [
      "['Machu Picchu', 'Yellowstone National Park', 'The Grand Canyon', 'Japan', 'Australia']\n"
     ]
    }
   ],
   "source": [
    "# show that the original list is still unsorted\n",
    "print(places_to_see)"
   ]
  },
  {
   "cell_type": "code",
   "execution_count": 7,
   "metadata": {},
   "outputs": [
    {
     "name": "stdout",
     "output_type": "stream",
     "text": [
      "['Australia', 'Japan', 'The Grand Canyon', 'Yellowstone National Park', 'Machu Picchu']\n"
     ]
    }
   ],
   "source": [
    "# \"reverse\" the order of the list, and print to see that it is changed\n",
    "places_to_see.reverse()\n",
    "print(places_to_see)"
   ]
  },
  {
   "cell_type": "code",
   "execution_count": 8,
   "metadata": {},
   "outputs": [
    {
     "name": "stdout",
     "output_type": "stream",
     "text": [
      "['Machu Picchu', 'Yellowstone National Park', 'The Grand Canyon', 'Japan', 'Australia']\n"
     ]
    }
   ],
   "source": [
    "# \"reverse\" it again (bring it in original order), and print\n",
    "places_to_see.reverse()\n",
    "print(places_to_see)"
   ]
  },
  {
   "cell_type": "code",
   "execution_count": 9,
   "metadata": {},
   "outputs": [
    {
     "name": "stdout",
     "output_type": "stream",
     "text": [
      "['Australia', 'Japan', 'Machu Picchu', 'The Grand Canyon', 'Yellowstone National Park']\n"
     ]
    }
   ],
   "source": [
    "# \"sort\" the list and show the change\n",
    "places_to_see.sort()\n",
    "print(places_to_see)"
   ]
  },
  {
   "cell_type": "code",
   "execution_count": 10,
   "metadata": {},
   "outputs": [
    {
     "name": "stdout",
     "output_type": "stream",
     "text": [
      "['Yellowstone National Park', 'The Grand Canyon', 'Machu Picchu', 'Japan', 'Australia']\n"
     ]
    }
   ],
   "source": [
    "# use \"sort\" again but to reverse the list order and show the change\n",
    "places_to_see.sort(reverse = True)\n",
    "print(places_to_see)"
   ]
  },
  {
   "cell_type": "code",
   "execution_count": null,
   "metadata": {},
   "outputs": [],
   "source": []
  }
 ],
 "metadata": {
  "kernelspec": {
   "display_name": "Python 3",
   "language": "python",
   "name": "python3"
  },
  "language_info": {
   "codemirror_mode": {
    "name": "ipython",
    "version": 3
   },
   "file_extension": ".py",
   "mimetype": "text/x-python",
   "name": "python",
   "nbconvert_exporter": "python",
   "pygments_lexer": "ipython3",
   "version": "3.7.6"
  }
 },
 "nbformat": 4,
 "nbformat_minor": 4
}
